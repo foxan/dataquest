{
 "cells": [
  {
   "cell_type": "markdown",
   "metadata": {},
   "source": [
    "https://www.dataquest.io/mission/113/challenge-summarizing-data/"
   ]
  },
  {
   "cell_type": "markdown",
   "metadata": {},
   "source": [
    "## 2: College Majors And Employment\n",
    "\n",
    "The American Community Survey is a survey run by the US Census Bureau that collects data on everything from the affordability of housing to employment rates for different industries. For this challenge, you'll be using the data derived from the American Community Survey for years 2010-2012. The team at FiveThirtyEight has cleaned the dataset and made it available on their [Github repo](https://github.com/fivethirtyeight/data/tree/master/college-majors).\n",
    "\n",
    "Here's a quick overview of the files we'll be working with:\n",
    "\n",
    "[all-ages.csv](https://github.com/fivethirtyeight/data/blob/master/college-majors/all-ages.csv) - employment data by major for all ages <br />\n",
    "[recent-grads.csv](https://github.com/fivethirtyeight/data/blob/master/college-majors/recent-grads.csv) - employment data by major for just  recent college graduates <br />"
   ]
  },
  {
   "cell_type": "code",
   "execution_count": 2,
   "metadata": {
    "collapsed": false
   },
   "outputs": [],
   "source": [
    "# %sh\n",
    "# # download source file\n",
    "# wget https://raw.githubusercontent.com/fivethirtyeight/data/master/college-majors/all-ages.csv\n",
    "# wget https://raw.githubusercontent.com/fivethirtyeight/data/master/college-majors/recent-grads.csv\n",
    "# ls -l"
   ]
  },
  {
   "cell_type": "code",
   "execution_count": 3,
   "metadata": {
    "collapsed": false
   },
   "outputs": [
    {
     "name": "stdout",
     "output_type": "stream",
     "text": [
      "Index([u'Major_code', u'Major', u'Major_category', u'Total', u'Employed',\n",
      "       u'Employed_full_time_year_round', u'Unemployed', u'Unemployment_rate',\n",
      "       u'Median', u'P25th', u'P75th'],\n",
      "      dtype='object')\n",
      "   Major_code                                  Major  \\\n",
      "0        1100                    GENERAL AGRICULTURE   \n",
      "1        1101  AGRICULTURE PRODUCTION AND MANAGEMENT   \n",
      "2        1102                 AGRICULTURAL ECONOMICS   \n",
      "\n",
      "                    Major_category   Total  Employed  \\\n",
      "0  Agriculture & Natural Resources  128148     90245   \n",
      "1  Agriculture & Natural Resources   95326     76865   \n",
      "2  Agriculture & Natural Resources   33955     26321   \n",
      "\n",
      "   Employed_full_time_year_round  Unemployed  Unemployment_rate  Median  \\\n",
      "0                          74078        2423           0.026147   50000   \n",
      "1                          64240        2266           0.028636   54000   \n",
      "2                          22810         821           0.030248   63000   \n",
      "\n",
      "   P25th    P75th  \n",
      "0  34000  80000.0  \n",
      "1  36000  80000.0  \n",
      "2  40000  98000.0  \n",
      "Index([u'Rank', u'Major_code', u'Major', u'Major_category', u'Total',\n",
      "       u'Sample_size', u'Men', u'Women', u'ShareWomen', u'Employed',\n",
      "       u'Full_time', u'Part_time', u'Full_time_year_round', u'Unemployed',\n",
      "       u'Unemployment_rate', u'Median', u'P25th', u'P75th', u'College_jobs',\n",
      "       u'Non_college_jobs', u'Low_wage_jobs'],\n",
      "      dtype='object')\n",
      "   Rank  Major_code                           Major Major_category  Total  \\\n",
      "0     1        2419           PETROLEUM ENGINEERING    Engineering   2339   \n",
      "1     2        2416  MINING AND MINERAL ENGINEERING    Engineering    756   \n",
      "2     3        2415       METALLURGICAL ENGINEERING    Engineering    856   \n",
      "\n",
      "   Sample_size   Men  Women  ShareWomen  Employed      ...        Part_time  \\\n",
      "0           36  2057    282    0.120564      1976      ...              270   \n",
      "1            7   679     77    0.101852       640      ...              170   \n",
      "2            3   725    131    0.153037       648      ...              133   \n",
      "\n",
      "   Full_time_year_round  Unemployed  Unemployment_rate  Median  P25th   P75th  \\\n",
      "0                  1207          37           0.018381  110000  95000  125000   \n",
      "1                   388          85           0.117241   75000  55000   90000   \n",
      "2                   340          16           0.024096   73000  50000  105000   \n",
      "\n",
      "   College_jobs  Non_college_jobs  Low_wage_jobs  \n",
      "0          1534               364            193  \n",
      "1           350               257             50  \n",
      "2           456               176              0  \n",
      "\n",
      "[3 rows x 21 columns]\n"
     ]
    }
   ],
   "source": [
    "import pandas as pd\n",
    "\n",
    "all_ages = pd.read_csv(\"all-ages.csv\")\n",
    "print all_ages.columns\n",
    "print all_ages.head(3)\n",
    "\n",
    "recent_grads = pd.read_csv(\"recent-grads.csv\")\n",
    "print recent_grads.columns\n",
    "print recent_grads.head(3)"
   ]
  },
  {
   "cell_type": "markdown",
   "metadata": {},
   "source": [
    "## 3: Summarizing Major Categories\n",
    "  \n",
    "In both of these datasets, majors are grouped into categories. There are multiple rows with a common value for `Major_category` but different values for `Major`. We would like to know the total number of people in each `Major_category` for both datasets."
   ]
  },
  {
   "cell_type": "code",
   "execution_count": 4,
   "metadata": {
    "collapsed": false
   },
   "outputs": [
    {
     "name": "stdout",
     "output_type": "stream",
     "text": [
      "{'Arts': 1805865L, 'Psychology & Social Work': 1987278L, 'Business': 9858741L, 'Industrial Arts & Consumer Services': 1033798L, 'Computers & Mathematics': 1781378L, 'Agriculture & Natural Resources': 632437L, 'Interdisciplinary': 45199L, 'Humanities & Liberal Arts': 3738335L, 'Engineering': 3576013L, 'Biology & Life Science': 1338186L, 'Health': 2950859L, 'Law & Public Policy': 902926L, 'Physical Sciences': 1025318L, 'Education': 4700118L, 'Communications & Journalism': 1803822L, 'Social Science': 2654125L}\n",
      "{'Arts': 357130L, 'Psychology & Social Work': 481007L, 'Business': 1302376L, 'Industrial Arts & Consumer Services': 229792L, 'Computers & Mathematics': 299008L, 'Agriculture & Natural Resources': 79981L, 'Interdisciplinary': 12296L, 'Humanities & Liberal Arts': 713468L, 'Engineering': 537583L, 'Biology & Life Science': 453862L, 'Health': 463230L, 'Law & Public Policy': 179107L, 'Physical Sciences': 185479L, 'Education': 559129L, 'Communications & Journalism': 392601L, 'Social Science': 529966L}\n"
     ]
    }
   ],
   "source": [
    "all_ages_major_categories = {}\n",
    "recent_grads_major_categories = {}\n",
    "\n",
    "def calculate_major_cat_totals(df):\n",
    "  counts_dictionary = {}\n",
    "  for cat in df[\"Major_category\"].value_counts().index:\n",
    "    counts_dictionary[cat] = df[\"Total\"][df[\"Major_category\"] == cat].sum()\n",
    "  return counts_dictionary\n",
    "\n",
    "all_ages_major_categories = calculate_major_cat_totals(all_ages)\n",
    "recent_grads_major_categories = calculate_major_cat_totals(recent_grads)\n",
    "\n",
    "print all_ages_major_categories\n",
    "print recent_grads_major_categories"
   ]
  },
  {
   "cell_type": "markdown",
   "metadata": {},
   "source": [
    "## 4: Low Wage Jobs Rates\n",
    "\n",
    "The [press likes to talk a lot](http://bit.ly/1fNLmaT) about how many college grads are unable to get higher wage, skilled jobs and end up working lower wage, unskilled jobs instead. As a data person, it is your job to be skeptical of any broad claims and analyze relevant data to obtain a more nuanced view. Let's run some basic calculations to explore that idea further."
   ]
  },
  {
   "cell_type": "code",
   "execution_count": 5,
   "metadata": {
    "collapsed": false
   },
   "outputs": [
    {
     "name": "stdout",
     "output_type": "stream",
     "text": [
      "0.0985254607612\n"
     ]
    }
   ],
   "source": [
    "low_wage_percent = recent_grads[\"Low_wage_jobs\"].astype(float).sum() / recent_grads[\"Total\"].sum()\n",
    "\n",
    "print low_wage_percent"
   ]
  },
  {
   "cell_type": "markdown",
   "metadata": {},
   "source": [
    "## 5: Comparing Datasets\n",
    "\n",
    "Both `all_ages` and `recent_grads` datasets have 173 rows, corresponding to the 173 college major codes. This enables us to do some comparisons between the two datasets and perform some initial calculations to see how similar or different the statistics of recent college graduates are from those of the entire population."
   ]
  },
  {
   "cell_type": "code",
   "execution_count": 6,
   "metadata": {
    "collapsed": false
   },
   "outputs": [
    {
     "name": "stdout",
     "output_type": "stream",
     "text": [
      "Recent grads fare better:  43\n",
      "All ages fare better:  128\n"
     ]
    }
   ],
   "source": [
    "# All majors, common to both DataFrames\n",
    "majors = recent_grads['Major'].value_counts().index\n",
    "recent_grads_lower_emp_count = 0\n",
    "all_ages_lower_emp_count = 0\n",
    "\n",
    "for major in majors:\n",
    "  recent_unemp = recent_grads[\"Unemployment_rate\"][recent_grads[\"Major\"] == major].values[0]\n",
    "  all_unemp = all_ages[\"Unemployment_rate\"][all_ages[\"Major\"] == major].values[0]\n",
    "  if recent_unemp < all_unemp:\n",
    "    recent_grads_lower_emp_count += 1\n",
    "  elif recent_unemp > all_unemp:\n",
    "    all_ages_lower_emp_count += 1\n",
    "\n",
    "print \"Recent grads fare better: \", recent_grads_lower_emp_count\n",
    "print \"All ages fare better: \", all_ages_lower_emp_count"
   ]
  }
 ],
 "metadata": {
  "kernelspec": {
   "display_name": "Python 2",
   "language": "python",
   "name": "python2"
  },
  "language_info": {
   "codemirror_mode": {
    "name": "ipython",
    "version": 2
   },
   "file_extension": ".py",
   "mimetype": "text/x-python",
   "name": "python",
   "nbconvert_exporter": "python",
   "pygments_lexer": "ipython2",
   "version": "2.7.11"
  },
  "name": "Data Analysis with Pandas: Intermediate - Challenge: Summarizing Data",
  "notebookId": 1317879613598658
 },
 "nbformat": 4,
 "nbformat_minor": 0
}
